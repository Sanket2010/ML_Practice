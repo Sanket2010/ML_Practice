{
 "cells": [
  {
   "cell_type": "code",
   "execution_count": 1,
   "id": "be8fbecf",
   "metadata": {},
   "outputs": [
    {
     "name": "stdout",
     "output_type": "stream",
     "text": [
      "Hello world\n"
     ]
    }
   ],
   "source": [
    "print(\"Hello world\")"
   ]
  },
  {
   "cell_type": "raw",
   "id": "fc6499b2",
   "metadata": {},
   "source": []
  },
  {
   "cell_type": "code",
   "execution_count": 3,
   "id": "981d0181",
   "metadata": {},
   "outputs": [],
   "source": [
    "import numpy as np"
   ]
  },
  {
   "cell_type": "code",
   "execution_count": 11,
   "id": "320185c8",
   "metadata": {},
   "outputs": [
    {
     "name": "stdout",
     "output_type": "stream",
     "text": [
      "[1 2 3 4]\n",
      "<class 'numpy.ndarray'>\n"
     ]
    }
   ],
   "source": [
    "x = np.array([1, 2, 3, 4])\n",
    "print(x)\n",
    "print(type(x))"
   ]
  },
  {
   "cell_type": "code",
   "execution_count": 10,
   "id": "8922ba2b",
   "metadata": {},
   "outputs": [
    {
     "name": "stdout",
     "output_type": "stream",
     "text": [
      "[1, 2, 3, 4]\n",
      "<class 'list'>\n"
     ]
    }
   ],
   "source": [
    "y= [1,2,3,4]\n",
    "print(y)\n",
    "print(type(y))"
   ]
  },
  {
   "cell_type": "markdown",
   "id": "f53fb406",
   "metadata": {},
   "source": [
    "# array"
   ]
  },
  {
   "cell_type": "code",
   "execution_count": 2,
   "id": "40c7401d",
   "metadata": {},
   "outputs": [
    {
     "name": "stdout",
     "output_type": "stream",
     "text": [
      "<class 'list'>\n",
      "<class 'numpy.ndarray'>\n"
     ]
    }
   ],
   "source": [
    "import numpy as np\n",
    "\n",
    "x = [1,2,3,4]\n",
    "y= np.array([1,2,3,4,5])\n",
    "\n",
    "print(type(x))\n",
    "print(type(y))\n",
    "\n"
   ]
  },
  {
   "cell_type": "code",
   "execution_count": 5,
   "id": "c6cf84bc",
   "metadata": {},
   "outputs": [
    {
     "name": "stdout",
     "output_type": "stream",
     "text": [
      "enter: 12\n",
      "enter: 13\n",
      "enter: 14\n",
      "enter: 15\n",
      "1\n"
     ]
    }
   ],
   "source": [
    "l =[]\n",
    "\n",
    "for i in range (1,5):\n",
    "    int_1 = int(input(\"enter: \"))\n",
    "    l.append(int_1)\n",
    "    \n",
    "print(np.array(1))\n"
   ]
  },
  {
   "cell_type": "code",
   "execution_count": 8,
   "id": "42d0606a",
   "metadata": {},
   "outputs": [
    {
     "name": "stdout",
     "output_type": "stream",
     "text": [
      "Enter: 12\n",
      "Enter: 13\n",
      "Enter: 14\n",
      "Enter: 15\n",
      "[12 13 14 15]\n"
     ]
    }
   ],
   "source": [
    "l =[]\n",
    "\n",
    "for i in range (1,5):\n",
    "    int_1 = int(input(\"Enter: \"))\n",
    "    l.append(int_1)\n",
    "    \n",
    "print(np.array(l))\n"
   ]
  },
  {
   "cell_type": "markdown",
   "id": "7951cc19",
   "metadata": {},
   "source": [
    "# zeroes\n"
   ]
  },
  {
   "cell_type": "code",
   "execution_count": 4,
   "id": "6e08e2df",
   "metadata": {},
   "outputs": [
    {
     "name": "stdout",
     "output_type": "stream",
     "text": [
      "[0. 0. 0. 0.]\n",
      "[[0. 0. 0. 0.]\n",
      " [0. 0. 0. 0.]\n",
      " [0. 0. 0. 0.]]\n"
     ]
    }
   ],
   "source": [
    "import numpy as np\n",
    "ar_zero = np.zeros(4)\n",
    "ar_zero1 = np.zeros((3,4))\n",
    "\n",
    "\n",
    "print(ar_zero)\n",
    "print(ar_zero1)\n"
   ]
  },
  {
   "cell_type": "markdown",
   "id": "76bb82b9",
   "metadata": {},
   "source": [
    "# Ones"
   ]
  },
  {
   "cell_type": "code",
   "execution_count": 6,
   "id": "1749dab7",
   "metadata": {},
   "outputs": [
    {
     "name": "stdout",
     "output_type": "stream",
     "text": [
      "[1. 1. 1. 1.]\n"
     ]
    }
   ],
   "source": [
    "ar_one = np.ones(4)\n",
    "\n",
    "print(ar_one)"
   ]
  },
  {
   "cell_type": "markdown",
   "id": "16dd772a",
   "metadata": {},
   "source": [
    "# Empty array"
   ]
  },
  {
   "cell_type": "code",
   "execution_count": 7,
   "id": "4525c4b3",
   "metadata": {},
   "outputs": [
    {
     "name": "stdout",
     "output_type": "stream",
     "text": [
      "[1. 1. 1. 1.]\n"
     ]
    }
   ],
   "source": [
    "ar_emp = np.empty(4)\n",
    "\n",
    "print(ar_emp)"
   ]
  },
  {
   "cell_type": "markdown",
   "id": "e5c64bfe",
   "metadata": {},
   "source": [
    "# Range"
   ]
  },
  {
   "cell_type": "code",
   "execution_count": 8,
   "id": "a742a0a7",
   "metadata": {},
   "outputs": [
    {
     "name": "stdout",
     "output_type": "stream",
     "text": [
      "[0 1 2 3]\n"
     ]
    }
   ],
   "source": [
    "ar_rn = np.arange(4)\n",
    "\n",
    "print(ar_rn)"
   ]
  },
  {
   "cell_type": "markdown",
   "id": "b466fa8c",
   "metadata": {},
   "source": [
    "# Diagonal"
   ]
  },
  {
   "cell_type": "code",
   "execution_count": 13,
   "id": "bb9cf798",
   "metadata": {},
   "outputs": [
    {
     "name": "stdout",
     "output_type": "stream",
     "text": [
      "[[1. 0. 0.]\n",
      " [0. 1. 0.]\n",
      " [0. 0. 1.]]\n"
     ]
    }
   ],
   "source": [
    "ar_dia = np.eye(3)\n",
    "\n",
    "print(ar_dia)"
   ]
  },
  {
   "cell_type": "code",
   "execution_count": 14,
   "id": "e9ee8108",
   "metadata": {},
   "outputs": [
    {
     "name": "stdout",
     "output_type": "stream",
     "text": [
      "[[1. 0. 0. 0. 0.]\n",
      " [0. 1. 0. 0. 0.]\n",
      " [0. 0. 1. 0. 0.]]\n"
     ]
    }
   ],
   "source": [
    "ar_dia1 = np.eye(3,5)\n",
    "\n",
    "print(ar_dia1)\n"
   ]
  },
  {
   "cell_type": "markdown",
   "id": "50178103",
   "metadata": {},
   "source": [
    "# linspace"
   ]
  },
  {
   "cell_type": "code",
   "execution_count": 16,
   "id": "f764d472",
   "metadata": {},
   "outputs": [
    {
     "name": "stdout",
     "output_type": "stream",
     "text": [
      "[ 0.   2.5  5.   7.5 10. ]\n"
     ]
    }
   ],
   "source": [
    "ar_lin = np.linspace(0,10,num=5)\n",
    "print(ar_lin)"
   ]
  },
  {
   "cell_type": "markdown",
   "id": "6a4cf509",
   "metadata": {},
   "source": [
    "# Random "
   ]
  },
  {
   "cell_type": "markdown",
   "id": "cebc8df8",
   "metadata": {},
   "source": [
    "# Rand()"
   ]
  },
  {
   "cell_type": "code",
   "execution_count": 21,
   "id": "f73767fc",
   "metadata": {},
   "outputs": [
    {
     "name": "stdout",
     "output_type": "stream",
     "text": [
      "[0.42890926 0.34810006 0.71603995 0.07747409 0.2643208 ]\n"
     ]
    }
   ],
   "source": [
    "a = np.random.rand(5)\n",
    "print(a)\n",
    "# [0.47246412 0.46394876 0.93116619 0.30417678 0.20906732]"
   ]
  },
  {
   "cell_type": "code",
   "execution_count": 19,
   "id": "84e9cd77",
   "metadata": {},
   "outputs": [
    {
     "name": "stdout",
     "output_type": "stream",
     "text": [
      "[[0.91880688 0.19256613 0.60985214 0.72650645 0.61464901]\n",
      " [0.23951277 0.13290313 0.38413489 0.95593264 0.1383898 ]]\n"
     ]
    }
   ],
   "source": [
    "b = np.random.rand(2,5)\n",
    "print(b)"
   ]
  },
  {
   "cell_type": "markdown",
   "id": "a313d3ff",
   "metadata": {},
   "source": [
    "# Ranf()"
   ]
  },
  {
   "cell_type": "code",
   "execution_count": 22,
   "id": "6d109294",
   "metadata": {},
   "outputs": [
    {
     "name": "stdout",
     "output_type": "stream",
     "text": [
      "[0.34278409 0.90817168 0.75127325 0.58313491 0.08076725]\n"
     ]
    }
   ],
   "source": [
    "c = np.random.ranf(5)\n",
    "print(c)"
   ]
  },
  {
   "cell_type": "markdown",
   "id": "1b79585a",
   "metadata": {},
   "source": [
    "# randn()"
   ]
  },
  {
   "cell_type": "code",
   "execution_count": 23,
   "id": "0ec1a135",
   "metadata": {},
   "outputs": [
    {
     "name": "stdout",
     "output_type": "stream",
     "text": [
      "[-1.07743045 -0.69885169  0.08126594  0.65785716]\n"
     ]
    }
   ],
   "source": [
    "d = np.random.randn(4)\n",
    "print(d)"
   ]
  },
  {
   "cell_type": "markdown",
   "id": "6b0afdc6",
   "metadata": {},
   "source": [
    "# randint()"
   ]
  },
  {
   "cell_type": "code",
   "execution_count": 24,
   "id": "d10122fc",
   "metadata": {},
   "outputs": [
    {
     "name": "stdout",
     "output_type": "stream",
     "text": [
      "[13  9  8  8  7]\n"
     ]
    }
   ],
   "source": [
    "e = np.random.randint(5,20,5)\n",
    "# e = np.random.randint(min,max,total_values)\n",
    "print(e)"
   ]
  },
  {
   "cell_type": "markdown",
   "id": "4c18ddd2",
   "metadata": {},
   "source": [
    "# Datatype"
   ]
  },
  {
   "cell_type": "code",
   "execution_count": 26,
   "id": "d7978acb",
   "metadata": {},
   "outputs": [
    {
     "name": "stdout",
     "output_type": "stream",
     "text": [
      "Datatype:  int32\n"
     ]
    }
   ],
   "source": [
    "var = np.array([1,2,3,4,12,13,14])\n",
    "print(\"Datatype: \",var.dtype)"
   ]
  },
  {
   "cell_type": "code",
   "execution_count": 28,
   "id": "fed677e6",
   "metadata": {},
   "outputs": [
    {
     "name": "stdout",
     "output_type": "stream",
     "text": [
      "Datatype:  float64\n"
     ]
    }
   ],
   "source": [
    "var1 = np.array([1.0,2.0,3.3,4.4])\n",
    "print(\"Datatype: \",var1.dtype)"
   ]
  },
  {
   "cell_type": "code",
   "execution_count": 29,
   "id": "4c2e3721",
   "metadata": {},
   "outputs": [
    {
     "name": "stdout",
     "output_type": "stream",
     "text": [
      "Datatype:  <U1\n"
     ]
    }
   ],
   "source": [
    "var2 = np.array([\"a\",\"b\",\"c\"])\n",
    "print(\"Datatype: \",var2.dtype)"
   ]
  },
  {
   "cell_type": "code",
   "execution_count": 32,
   "id": "1715a834",
   "metadata": {},
   "outputs": [
    {
     "name": "stdout",
     "output_type": "stream",
     "text": [
      "Datatype:  int8\n",
      "[1 2 3 4]\n"
     ]
    }
   ],
   "source": [
    "x = np.array([1,2,3,4],dtype = np.int8)\n",
    "\n",
    "print(\"Datatype: \",x.dtype)\n",
    "print(x)"
   ]
  },
  {
   "cell_type": "code",
   "execution_count": 33,
   "id": "16f7a2f2",
   "metadata": {},
   "outputs": [
    {
     "name": "stdout",
     "output_type": "stream",
     "text": [
      "Datatype:  float32\n",
      "[1. 2. 3. 4.]\n"
     ]
    }
   ],
   "source": [
    "x1 = np.array([1,2,3,4],dtype = \"f\")\n",
    "\n",
    "print(\"Datatype: \",x1.dtype)\n",
    "print(x1)"
   ]
  },
  {
   "cell_type": "code",
   "execution_count": 35,
   "id": "b3cad3cb",
   "metadata": {},
   "outputs": [
    {
     "name": "stdout",
     "output_type": "stream",
     "text": [
      "Datatype:  int32\n",
      "Datatype:  float32\n",
      "Datatype:  int32\n",
      "[1 2 3 4]\n",
      "[1. 2. 3. 4.]\n",
      "[1 2 3 4]\n"
     ]
    }
   ],
   "source": [
    "x2 = np.array([1,2,3,4])\n",
    "new = np.float32(x2)\n",
    "new_one = np.int_(new)\n",
    "\n",
    "print(\"Datatype: \",x2.dtype)\n",
    "print(\"Datatype: \",new.dtype)\n",
    "print(\"Datatype: \",new_one.dtype)\n",
    "print(x2)\n",
    "print(new)\n",
    "print(new_one)"
   ]
  },
  {
   "cell_type": "code",
   "execution_count": 36,
   "id": "9c2943f4",
   "metadata": {},
   "outputs": [
    {
     "name": "stdout",
     "output_type": "stream",
     "text": [
      "[1 2 3 4]\n",
      "[1. 2. 3. 4.]\n"
     ]
    }
   ],
   "source": [
    "x3 = np.array([1,2,3,4])\n",
    "\n",
    "new_1 = x3.astype(float)\n",
    "print(x3)\n",
    "print(new_1)"
   ]
  },
  {
   "cell_type": "markdown",
   "id": "d051e9a0",
   "metadata": {},
   "source": [
    "# Arithmetic Operation"
   ]
  },
  {
   "cell_type": "markdown",
   "id": "40a1166e",
   "metadata": {},
   "source": [
    "# add"
   ]
  },
  {
   "cell_type": "code",
   "execution_count": 37,
   "id": "3decbee8",
   "metadata": {},
   "outputs": [
    {
     "name": "stdout",
     "output_type": "stream",
     "text": [
      "[4 5 6 7]\n"
     ]
    }
   ],
   "source": [
    "var = np.array([1,2,3,4])\n",
    "varadd = var + 3\n",
    "\n",
    "print(varadd)"
   ]
  },
  {
   "cell_type": "code",
   "execution_count": 38,
   "id": "a40314a5",
   "metadata": {},
   "outputs": [
    {
     "name": "stdout",
     "output_type": "stream",
     "text": [
      "[2 4 6 8]\n"
     ]
    }
   ],
   "source": [
    "var1 = np.array([1,2,3,4])\n",
    "var2 = np.array([1,2,3,4])\n",
    "varadd = var1 + var2\n",
    "\n",
    "print(varadd)"
   ]
  },
  {
   "cell_type": "code",
   "execution_count": 43,
   "id": "e5434ea1",
   "metadata": {},
   "outputs": [
    {
     "name": "stdout",
     "output_type": "stream",
     "text": [
      "[2 4 6 8]\n"
     ]
    }
   ],
   "source": [
    "# Add function in numpy\n",
    "var1 = np.array([1,2,3,4])\n",
    "var2 = np.array([1,2,3,4])\n",
    "varadd = np.add(var1,var2)\n",
    "\n",
    "print(varadd)"
   ]
  },
  {
   "cell_type": "code",
   "execution_count": 39,
   "id": "b0490628",
   "metadata": {},
   "outputs": [
    {
     "name": "stdout",
     "output_type": "stream",
     "text": [
      "[-2 -1  0  1]\n"
     ]
    }
   ],
   "source": [
    "var = np.array([1,2,3,4])\n",
    "var2 = var - 3\n",
    "\n",
    "print(var2)"
   ]
  },
  {
   "cell_type": "code",
   "execution_count": 45,
   "id": "4889e284",
   "metadata": {},
   "outputs": [
    {
     "name": "stdout",
     "output_type": "stream",
     "text": [
      "[0 0 0 0]\n"
     ]
    }
   ],
   "source": [
    "var1 = np.array([1,2,3,4])\n",
    "var2 = np.array([1,2,3,4])\n",
    "varsub = np.subtract(var1,var2)\n",
    "\n",
    "print(varsub)"
   ]
  },
  {
   "cell_type": "code",
   "execution_count": 40,
   "id": "3f7ffb14",
   "metadata": {},
   "outputs": [
    {
     "name": "stdout",
     "output_type": "stream",
     "text": [
      "[ 3  6  9 12]\n"
     ]
    }
   ],
   "source": [
    "var = np.array([1,2,3,4])\n",
    "var2 = var * 3\n",
    "\n",
    "print(var2)"
   ]
  },
  {
   "cell_type": "code",
   "execution_count": 41,
   "id": "92806267",
   "metadata": {},
   "outputs": [
    {
     "name": "stdout",
     "output_type": "stream",
     "text": [
      "[0.33333333 0.66666667 1.         1.33333333]\n"
     ]
    }
   ],
   "source": [
    "var = np.array([1,2,3,4])\n",
    "var2 = var / 3\n",
    "\n",
    "print(var2)"
   ]
  },
  {
   "cell_type": "code",
   "execution_count": 46,
   "id": "06666409",
   "metadata": {},
   "outputs": [
    {
     "name": "stdout",
     "output_type": "stream",
     "text": [
      "[1 2 0 1]\n"
     ]
    }
   ],
   "source": [
    "var = np.array([1,2,3,4])\n",
    "var2 = var % 3\n",
    "\n",
    "print(var2)"
   ]
  },
  {
   "cell_type": "markdown",
   "id": "7ec8a829",
   "metadata": {},
   "source": [
    "# 2d Array"
   ]
  },
  {
   "cell_type": "code",
   "execution_count": 49,
   "id": "2d0a5b50",
   "metadata": {},
   "outputs": [
    {
     "name": "stdout",
     "output_type": "stream",
     "text": [
      "[[1 2 3 4]\n",
      " [1 2 3 4]]\n",
      "\n",
      "[[1 2 3 4]\n",
      " [1 2 3 4]]\n",
      "\n",
      "[[2 4 6 8]\n",
      " [2 4 6 8]]\n"
     ]
    }
   ],
   "source": [
    "var21 = np.array([[1,2,3,4],[1,2,3,4]])\n",
    "var22 = np.array([[1,2,3,4],[1,2,3,4]])\n",
    "print(var21)\n",
    "print()\n",
    "print(var22)\n",
    "print()\n",
    "varadd = var21 + var22\n",
    "\n",
    "print(varadd)"
   ]
  },
  {
   "cell_type": "code",
   "execution_count": 50,
   "id": "fd903612",
   "metadata": {},
   "outputs": [
    {
     "name": "stdout",
     "output_type": "stream",
     "text": [
      "[[1 2 3 4]\n",
      " [1 2 3 4]]\n",
      "\n",
      "[[1 2 3 4]\n",
      " [1 2 3 4]]\n",
      "\n",
      "[[2 4 6 8]\n",
      " [2 4 6 8]]\n"
     ]
    }
   ],
   "source": [
    "var21 = np.array([[1,2,3,4],[1,2,3,4]])\n",
    "var22 = np.array([[1,2,3,4],[1,2,3,4]])\n",
    "print(var21)\n",
    "print()\n",
    "print(var22)\n",
    "print()\n",
    "varadd = np.add(var21,var22)\n",
    "\n",
    "print(varadd)"
   ]
  },
  {
   "cell_type": "code",
   "execution_count": 51,
   "id": "cd6e1230",
   "metadata": {},
   "outputs": [
    {
     "name": "stdout",
     "output_type": "stream",
     "text": [
      "[1 0 0 0]\n"
     ]
    }
   ],
   "source": [
    "var = np.array([1,2,3,4])\n",
    "var2 = np.reciprocal(var)\n",
    "\n",
    "print(var2)"
   ]
  },
  {
   "cell_type": "markdown",
   "id": "4c795dc7",
   "metadata": {},
   "source": [
    "# Arithmetic function"
   ]
  },
  {
   "cell_type": "code",
   "execution_count": 53,
   "id": "23ad78d7",
   "metadata": {},
   "outputs": [
    {
     "name": "stdout",
     "output_type": "stream",
     "text": [
      "Minimum number:  1\n",
      "Max number:  5\n"
     ]
    }
   ],
   "source": [
    "var = np.array([1,2,3,4,5,3,2])\n",
    "print(\"Minimum number: \",np.min(var))\n",
    "print(\"Max number: \",np.max(var))"
   ]
  },
  {
   "cell_type": "code",
   "execution_count": 59,
   "id": "aa2480fe",
   "metadata": {},
   "outputs": [
    {
     "name": "stdout",
     "output_type": "stream",
     "text": [
      "Minimum number:  1 Position of the min: 0\n",
      "Max number:  5 Position of the max: 4\n",
      "sqrt: [1.         1.41421356 1.73205081 2.         2.23606798 1.73205081\n",
      " 1.41421356]\n"
     ]
    }
   ],
   "source": [
    "var = np.array([1,2,3,4,5,3,2])\n",
    "print(\"Minimum number: \",np.min(var),\"Position of the min:\",np.argmin(var))\n",
    "print(\"Max number: \",np.max(var),\"Position of the max:\",np.argmax(var))\n",
    "print(\"sqrt:\",np.sqrt(var))"
   ]
  },
  {
   "cell_type": "code",
   "execution_count": 58,
   "id": "019ea017",
   "metadata": {},
   "outputs": [
    {
     "name": "stdout",
     "output_type": "stream",
     "text": [
      "[1 2 3]\n"
     ]
    }
   ],
   "source": [
    "var = np.array([[1,2,3],[9,7,5]])\n",
    "\n",
    "print(np.min(var,axis=0))\n"
   ]
  },
  {
   "cell_type": "code",
   "execution_count": 62,
   "id": "82a7534e",
   "metadata": {},
   "outputs": [
    {
     "name": "stdout",
     "output_type": "stream",
     "text": [
      "Sine: [0.84147098 0.90929743 0.14112001]\n",
      "Cos: [ 0.54030231 -0.41614684 -0.9899925 ]\n",
      "Cumsum [1 3 6]\n"
     ]
    }
   ],
   "source": [
    "var2 = np.array([1,2,3])\n",
    "\n",
    "print(\"Sine:\",np.sin(var2))\n",
    "print(\"Cos:\",np.cos(var2))\n",
    "print(\"Cumsum\",np.cumsum(var2))\n"
   ]
  },
  {
   "cell_type": "markdown",
   "id": "cd235d0c",
   "metadata": {},
   "source": [
    "# Shape"
   ]
  },
  {
   "cell_type": "code",
   "execution_count": 65,
   "id": "c06e5604",
   "metadata": {},
   "outputs": [
    {
     "name": "stdout",
     "output_type": "stream",
     "text": [
      "[[1 2 3 4]\n",
      " [1 2 3 4]]\n",
      "\n",
      "(2, 4)\n"
     ]
    }
   ],
   "source": [
    "var = np.array([[1,2,3,4],[1,2,3,4]])\n",
    "print(var)\n",
    "print()\n",
    "print(var.shape)"
   ]
  },
  {
   "cell_type": "code",
   "execution_count": 68,
   "id": "7c4e3bbc",
   "metadata": {},
   "outputs": [
    {
     "name": "stdout",
     "output_type": "stream",
     "text": [
      "[[[[1 2 3 4]]]]\n",
      "4\n",
      "\n",
      "(1, 1, 1, 4)\n"
     ]
    }
   ],
   "source": [
    "var1 = np.array([1,2,3,4],ndmin=4)\n",
    "print(var1)\n",
    "print(var1.ndim)\n",
    "print()\n",
    "print(var1.shape)"
   ]
  },
  {
   "cell_type": "markdown",
   "id": "80a0f365",
   "metadata": {},
   "source": [
    "# Reshape"
   ]
  },
  {
   "cell_type": "code",
   "execution_count": 71,
   "id": "3bfbb808",
   "metadata": {},
   "outputs": [
    {
     "name": "stdout",
     "output_type": "stream",
     "text": [
      "[1 2 3 4 5 6]\n",
      "1\n",
      "\n",
      "[[1 2]\n",
      " [3 4]\n",
      " [5 6]]\n",
      "2\n"
     ]
    }
   ],
   "source": [
    "var2 = np.array([1,2,3,4,5,6])\n",
    "print(var2)\n",
    "print(var2.ndim)\n",
    "print()\n",
    "\n",
    "x =var2.reshape(3,2)\n",
    "\n",
    "print(x)\n",
    "print(x.ndim)"
   ]
  },
  {
   "cell_type": "code",
   "execution_count": 74,
   "id": "5c68d3ff",
   "metadata": {},
   "outputs": [
    {
     "name": "stdout",
     "output_type": "stream",
     "text": [
      "(3,)\n",
      "\n",
      "[1 2 3]\n",
      "[[1]\n",
      " [2]\n",
      " [3]]\n",
      "\n",
      "(3, 1)\n",
      "\n",
      "[[2 3 4]\n",
      " [3 4 5]\n",
      " [4 5 6]]\n"
     ]
    }
   ],
   "source": [
    "var1 = np.array([1,2,3])\n",
    "print(var1.shape)\n",
    "print()\n",
    "print(var1)\n",
    "\n",
    "var2 =np.array([[1],[2],[3]])\n",
    "print(var2)\n",
    "print()\n",
    "print(var2.shape)\n",
    "print()\n",
    "\n",
    "print(var1+var2)"
   ]
  },
  {
   "cell_type": "code",
   "execution_count": null,
   "id": "796fce22",
   "metadata": {},
   "outputs": [],
   "source": []
  }
 ],
 "metadata": {
  "kernelspec": {
   "display_name": "Python 3 (ipykernel)",
   "language": "python",
   "name": "python3"
  },
  "language_info": {
   "codemirror_mode": {
    "name": "ipython",
    "version": 3
   },
   "file_extension": ".py",
   "mimetype": "text/x-python",
   "name": "python",
   "nbconvert_exporter": "python",
   "pygments_lexer": "ipython3",
   "version": "3.11.1"
  }
 },
 "nbformat": 4,
 "nbformat_minor": 5
}
