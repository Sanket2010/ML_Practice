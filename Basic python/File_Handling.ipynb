{
 "cells": [
  {
   "cell_type": "raw",
   "id": "96075b1b",
   "metadata": {},
   "source": [
    "What is file handling?\n",
    "\n",
    "File is nothing but name of memory location on disk that stores data permanantly.\n",
    "\n",
    "File handling is a mechanism through which we can handle(read, write , create, append etc) the file.\n",
    "\n",
    "File Mode:\n",
    "\n",
    "r= read\n",
    "w= write\n",
    "a = append\n",
    "r+ = Both read and write\n",
    "b = binary mode\n",
    "\n",
    "File Operation:\n",
    "\n",
    "create\n",
    "read\n",
    "write \n",
    "copy \n",
    "delete"
   ]
  },
  {
   "cell_type": "code",
   "execution_count": 6,
   "id": "f4ad7ee2",
   "metadata": {},
   "outputs": [
    {
     "name": "stdout",
     "output_type": "stream",
     "text": [
      "Sanket Iye\n"
     ]
    }
   ],
   "source": [
    "f=open(\"C:\\\\Users\\\\ASUS\\\\Desktop\\\\Machine Learning\\A.txt\",\"r\")\n",
    "# f.write(\"Sanket Iyer\\n Yooooooooooo\")\n",
    "print(f.read(10))\n",
    "# print(\"File Created Successfully....!\\nData Wrote\")\n"
   ]
  },
  {
   "cell_type": "code",
   "execution_count": null,
   "id": "3403d3fc",
   "metadata": {},
   "outputs": [],
   "source": []
  }
 ],
 "metadata": {
  "kernelspec": {
   "display_name": "Python 3 (ipykernel)",
   "language": "python",
   "name": "python3"
  },
  "language_info": {
   "codemirror_mode": {
    "name": "ipython",
    "version": 3
   },
   "file_extension": ".py",
   "mimetype": "text/x-python",
   "name": "python",
   "nbconvert_exporter": "python",
   "pygments_lexer": "ipython3",
   "version": "3.11.1"
  }
 },
 "nbformat": 4,
 "nbformat_minor": 5
}
