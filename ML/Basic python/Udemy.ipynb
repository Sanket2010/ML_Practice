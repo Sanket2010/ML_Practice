{
 "cells": [
  {
   "cell_type": "code",
   "execution_count": 3,
   "id": "5116d333",
   "metadata": {},
   "outputs": [
    {
     "name": "stdout",
     "output_type": "stream",
     "text": [
      "Enter your name:sanket\n",
      "How old are you,sanket?12\n",
      "12\n",
      "Plss come back in 6 years\n"
     ]
    }
   ],
   "source": [
    "name = input(\"Enter your name:\")\n",
    "age=int(input(\"How old are you,{0}?\".format(name)))\n",
    "\n",
    "print(age)\n",
    "\n",
    "if age>= 18:\n",
    "    print(\"you are old enough to vote!!\")\n",
    "else:\n",
    "    print(\"Plss come back in {0} years\".format(18-age))"
   ]
  },
  {
   "cell_type": "code",
   "execution_count": 6,
   "id": "bf057096",
   "metadata": {},
   "outputs": [
    {
     "name": "stdout",
     "output_type": "stream",
     "text": [
      "Please guess the number bw 1 and 10: \n",
      "1\n",
      "Pls guess higher\n",
      "4\n",
      "Sorry,you have not guessed correctly\n"
     ]
    }
   ],
   "source": [
    "#guessing game\n",
    "answer = 5\n",
    "\n",
    "print(\"Please guess the number bw 1 and 10: \")\n",
    "guess= int(input())\n",
    "\n",
    "if guess < answer:\n",
    "    print(\"Pls guess higher\")\n",
    "    guess = int(input())\n",
    "    if guess == answer:\n",
    "        print(\"well done, you guessed it\")\n",
    "    else:\n",
    "        print(\"Sorry,you have not guessed correctly\")\n",
    "elif guess>answer:\n",
    "    print(\"please guess lower\")\n",
    "    guess = int(input())\n",
    "    if guess == answer:\n",
    "        print(\"well done, you guessed it\")\n",
    "    else:\n",
    "        print(\"Sorry,you have not guessed correctly\")\n",
    "else:\n",
    "    print(\"you got it first time\")"
   ]
  },
  {
   "cell_type": "code",
   "execution_count": 7,
   "id": "a33aa3a8",
   "metadata": {},
   "outputs": [
    {
     "name": "stdout",
     "output_type": "stream",
     "text": [
      "Enter your name:23\n",
      "How old are you,23?23\n",
      "23\n",
      "Welcome to the Holiday!!\n"
     ]
    }
   ],
   "source": [
    "name = input(\"Enter your name:\")\n",
    "age=int(input(\"How old are you,{0}?\".format(name)))\n",
    "\n",
    "print(age)\n",
    "\n",
    "if 18<=age<31:\n",
    "    print(\"Welcome to the Holiday!!\")\n",
    "else:\n",
    "    print(\"Sorry Next time\")"
   ]
  },
  {
   "cell_type": "code",
   "execution_count": 8,
   "id": "84d394c2",
   "metadata": {},
   "outputs": [
    {
     "name": "stdout",
     "output_type": "stream",
     "text": [
      "N\n",
      "o\n",
      "r\n",
      "w\n",
      "e\n",
      "g\n",
      "i\n",
      "a\n",
      "n\n",
      " \n",
      "B\n",
      "l\n",
      "u\n",
      "e\n"
     ]
    }
   ],
   "source": [
    "#for loop\n",
    "\n",
    "parrot = \"Norwegian Blue\"\n",
    "\n",
    "for character in parrot:\n",
    "    print(character)\n"
   ]
  },
  {
   "cell_type": "code",
   "execution_count": 11,
   "id": "bd085508",
   "metadata": {},
   "outputs": [
    {
     "name": "stdout",
     "output_type": "stream",
     "text": [
      "[9223372036854775807]\n"
     ]
    }
   ],
   "source": [
    "number= \"9,223;372:036 854,775;807\"\n",
    "separators = \"\"\n",
    "\n",
    "for char in number:\n",
    "    if not char.isnumeric():\n",
    "        separators = separators + char\n",
    "print(separators)    \n",
    "# values =\"\".join(char if char not in separators else \"\" for char in number).split()\n",
    "# print([int(val) for val in values])"
   ]
  },
  {
   "cell_type": "code",
   "execution_count": 5,
   "id": "7527eba5",
   "metadata": {},
   "outputs": [
    {
     "name": "stdout",
     "output_type": "stream",
     "text": [
      "i is now 11\n",
      "i is now 12\n",
      "i is now 13\n",
      "i is now 14\n",
      "i is now 15\n",
      "i is now 16\n",
      "i is now 17\n",
      "i is now 18\n",
      "i is now 19\n"
     ]
    }
   ],
   "source": [
    "for i in range(1,20):\n",
    "    if i>10:\n",
    "        print(\"i is now {}\".format(i))"
   ]
  },
  {
   "cell_type": "code",
   "execution_count": null,
   "id": "485a4dd0",
   "metadata": {},
   "outputs": [],
   "source": []
  }
 ],
 "metadata": {
  "kernelspec": {
   "display_name": "Python 3 (ipykernel)",
   "language": "python",
   "name": "python3"
  },
  "language_info": {
   "codemirror_mode": {
    "name": "ipython",
    "version": 3
   },
   "file_extension": ".py",
   "mimetype": "text/x-python",
   "name": "python",
   "nbconvert_exporter": "python",
   "pygments_lexer": "ipython3",
   "version": "3.11.1"
  }
 },
 "nbformat": 4,
 "nbformat_minor": 5
}
