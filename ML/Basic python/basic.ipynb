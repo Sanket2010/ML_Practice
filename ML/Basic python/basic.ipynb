{
 "cells": [
  {
   "cell_type": "code",
   "execution_count": 2,
   "id": "55eac845",
   "metadata": {},
   "outputs": [
    {
     "name": "stdout",
     "output_type": "stream",
     "text": [
      "enter a number: 55\n",
      "55\n",
      "110\n",
      "165\n",
      "220\n",
      "275\n",
      "330\n",
      "385\n",
      "440\n",
      "495\n",
      "550\n"
     ]
    }
   ],
   "source": [
    "# For loop\n",
    "a = int(input(\"Enter a number: \"))\n",
    "\n",
    "for b in range(1,11):\n",
    "    print(a*b)\n",
    "    "
   ]
  },
  {
   "cell_type": "code",
   "execution_count": 4,
   "id": "db60178c",
   "metadata": {},
   "outputs": [
    {
     "name": "stdout",
     "output_type": "stream",
     "text": [
      "Sanket\n",
      "Sanket\n",
      "Sanket\n",
      "Sanket\n",
      "Sanket\n"
     ]
    }
   ],
   "source": [
    "# while loop\n",
    "i=1\n",
    "while i<=5:\n",
    "    print(\"Sanket\")\n",
    "    i=i+1\n",
    "    "
   ]
  },
  {
   "cell_type": "code",
   "execution_count": 1,
   "id": "836b7733",
   "metadata": {},
   "outputs": [
    {
     "name": "stdout",
     "output_type": "stream",
     "text": [
      "Initial string: \n",
      "SanketIyer\n"
     ]
    }
   ],
   "source": [
    "#string \n",
    "s1 = \"SanketIyer\"\n",
    "print(\"Initial string: \")\n",
    "print(s1)\n",
    "\n",
    "print"
   ]
  },
  {
   "cell_type": "code",
   "execution_count": 3,
   "id": "6d7dace9",
   "metadata": {},
   "outputs": [
    {
     "name": "stdout",
     "output_type": "stream",
     "text": [
      "\n",
      "First character of string is: \n",
      "S\n"
     ]
    }
   ],
   "source": [
    "print(\"\\nFirst character of string is: \")\n",
    "print(s1[0])"
   ]
  },
  {
   "cell_type": "code",
   "execution_count": 4,
   "id": "34c08360",
   "metadata": {},
   "outputs": [
    {
     "name": "stdout",
     "output_type": "stream",
     "text": [
      "\n",
      "Last character of string is: \n",
      "r\n"
     ]
    }
   ],
   "source": [
    "print(\"\\nLast character of string is: \")\n",
    "print(s1[-1])"
   ]
  },
  {
   "cell_type": "code",
   "execution_count": 5,
   "id": "438268d2",
   "metadata": {},
   "outputs": [
    {
     "name": "stdout",
     "output_type": "stream",
     "text": [
      "\n",
      "Slicing Characters from 3-9: \n",
      "ketIye\n"
     ]
    }
   ],
   "source": [
    "# Printing 3rd to 12th character\n",
    "print(\"\\nSlicing Characters from 3-9: \")\n",
    "print(s1[3:9])"
   ]
  },
  {
   "cell_type": "code",
   "execution_count": 6,
   "id": "5cf2b6ce",
   "metadata": {},
   "outputs": [
    {
     "name": "stdout",
     "output_type": "stream",
     "text": [
      "\n",
      "Slicing characters bw 3rd and 2nd last character: \n",
      "ketIy\n"
     ]
    }
   ],
   "source": [
    "# Printing characters between \n",
    "# 3rd and 2nd last character\n",
    "\n",
    "print(\"\\nSlicing characters bw \" + \"3rd and 2nd last character: \")\n",
    "print(s1[3:-2])"
   ]
  },
  {
   "cell_type": "code",
   "execution_count": 2,
   "id": "b8d379aa",
   "metadata": {},
   "outputs": [
    {
     "name": "stdout",
     "output_type": "stream",
     "text": [
      "Hello\n",
      "Good Morning\n"
     ]
    }
   ],
   "source": [
    "# Functions\n",
    "\n",
    "def greet():\n",
    "    print(\"Hello\")\n",
    "    print(\"Good Morning\")\n",
    "    \n",
    "greet()    \n"
   ]
  },
  {
   "cell_type": "code",
   "execution_count": 9,
   "id": "ef6fbbc0",
   "metadata": {},
   "outputs": [
    {
     "name": "stdout",
     "output_type": "stream",
     "text": [
      "11 -1\n"
     ]
    }
   ],
   "source": [
    "def add_sub(a,b):\n",
    "    c= a+b\n",
    "    d= a-b\n",
    "    return c,d\n",
    "\n",
    "result1,result2 = add_sub(5,6)\n",
    "print(result1,result2)"
   ]
  },
  {
   "cell_type": "code",
   "execution_count": 12,
   "id": "0a390c41",
   "metadata": {},
   "outputs": [
    {
     "name": "stdout",
     "output_type": "stream",
     "text": [
      "8\n",
      "10\n"
     ]
    }
   ],
   "source": [
    "def update(x):\n",
    "    x=8\n",
    "    print(x)\n",
    "    \n",
    "a =10   \n",
    "update(a)\n",
    "print(a)"
   ]
  },
  {
   "cell_type": "code",
   "execution_count": 13,
   "id": "f0fe690d",
   "metadata": {},
   "outputs": [
    {
     "name": "stdout",
     "output_type": "stream",
     "text": [
      "11\n"
     ]
    }
   ],
   "source": [
    "def add(a,b):\n",
    "    c = a+b\n",
    "    print(c)\n",
    "    \n",
    "add(5,6)"
   ]
  },
  {
   "cell_type": "code",
   "execution_count": 6,
   "id": "60c53b3a",
   "metadata": {},
   "outputs": [
    {
     "name": "stdout",
     "output_type": "stream",
     "text": [
      "sanket\n",
      "22\n"
     ]
    }
   ],
   "source": [
    "def person(name,age=18):\n",
    "    print(name)\n",
    "    print(age)\n",
    "    \n",
    "person('sanket',22)"
   ]
  },
  {
   "cell_type": "code",
   "execution_count": 9,
   "id": "c09cea68",
   "metadata": {},
   "outputs": [
    {
     "name": "stdout",
     "output_type": "stream",
     "text": [
      "23\n"
     ]
    }
   ],
   "source": [
    "def add(*b):\n",
    "    c=0\n",
    "    \n",
    "    for i in b:\n",
    "        c=c+i\n",
    "        \n",
    "    print(c)\n",
    "        \n",
    "\n",
    "    \n",
    "add(5,5,6,7)\n",
    "    "
   ]
  },
  {
   "cell_type": "code",
   "execution_count": 11,
   "id": "d0b8e098",
   "metadata": {},
   "outputs": [
    {
     "name": "stdout",
     "output_type": "stream",
     "text": [
      "1\n"
     ]
    }
   ],
   "source": [
    "a=3%2\n",
    "print(a)"
   ]
  },
  {
   "cell_type": "code",
   "execution_count": 10,
   "id": "868c2194",
   "metadata": {},
   "outputs": [
    {
     "name": "stdout",
     "output_type": "stream",
     "text": [
      "Hello asdfghjkl\n"
     ]
    }
   ],
   "source": [
    "def fun():\n",
    "    print(\"Hello asdfghjkl\")\n",
    "    \n",
    "fun()"
   ]
  },
  {
   "cell_type": "code",
   "execution_count": 12,
   "id": "79da11ad",
   "metadata": {},
   "outputs": [
    {
     "name": "stdout",
     "output_type": "stream",
     "text": [
      "False True\n"
     ]
    }
   ],
   "source": [
    "def is_prime(n):\n",
    "    if n is [2,3]:\n",
    "        return True\n",
    "    if (n==1) or (n%2==0):\n",
    "        return False\n",
    "    r=3\n",
    "    while r*r<=n:\n",
    "        if n%r == 0:\n",
    "            return False\n",
    "        r+=2\n",
    "        return True\n",
    "    \n",
    "print(is_prime(78),is_prime(79))"
   ]
  },
  {
   "cell_type": "raw",
   "id": "976861b8",
   "metadata": {},
   "source": [
    "This code defines a Python function `is_prime(n)` that checks whether a given integer `n` is a prime number. Additionally, the code includes a print statement that demonstrates the usage of the `is_prime` function for the numbers 78 and 79.\n",
    "\n",
    "Here's a breakdown of the code:\n",
    "\n",
    "1. **Function Definition (`is_prime`):**\n",
    "   - The function takes an integer `n` as its parameter.\n",
    "   - It first checks if `n` is either 2 or 3. If so, it returns `True` since 2 and 3 are prime numbers.\n",
    "   - Next, it checks if `n` is 1 or an even number (`n % 2 == 0`). If either condition is true, the function returns `False` because prime numbers are greater than 1 and cannot be even (except for 2).\n",
    "   - Then, it initializes a variable `r` to 3 and enters a `while` loop. The loop continues as long as the square of `r` is less than or equal to `n`.\n",
    "     - Within the loop, it checks if `n` is divisible by `r`. If true, it means `n` is not a prime number, and the function returns `False`.\n",
    "     - If not divisible, it increments `r` by 2 (to check only odd divisors, as even divisors have already been handled).\n",
    "   - If the loop completes without finding a divisor, the function returns `True`, indicating that `n` is a prime number.\n",
    "\n",
    "2. **Print Statement:**\n",
    "   - The code then prints the results of calling the `is_prime` function with the arguments 78 and 79.\n",
    "   - `is_prime(78)` returns `False` because 78 is not a prime number.\n",
    "   - `is_prime(79)` returns `True` because 79 is a prime number.\n",
    "\n",
    "In summary, the code defines a function to determine whether a given number is prime and then applies this function to the numbers 78 and 79, printing the results."
   ]
  },
  {
   "cell_type": "code",
   "execution_count": 13,
   "id": "c21a360b",
   "metadata": {},
   "outputs": [
    {
     "name": "stdout",
     "output_type": "stream",
     "text": [
      "Odd\n"
     ]
    }
   ],
   "source": [
    "# A simple Python function to check\n",
    "# whether x is even or odd\n",
    "def evenOdd(x):\n",
    "    if(x%2==0):\n",
    "        print(\"Even\")\n",
    "    else:\n",
    "        print(\"Odd\")\n",
    "        \n",
    "# Call the function evenOdd()\n",
    "\n",
    "evenOdd(55)"
   ]
  },
  {
   "cell_type": "code",
   "execution_count": 1,
   "id": "d47a512d",
   "metadata": {},
   "outputs": [
    {
     "name": "stdout",
     "output_type": "stream",
     "text": [
      "Geeks\n",
      "for\n",
      "Geeks\n"
     ]
    }
   ],
   "source": [
    "# Python program to illustrate \n",
    "# Iterating over a list \n",
    "l = [\"Geeks\",\"for\",\"Geeks\"]\n",
    "\n",
    "for i in l:\n",
    "    print(i)"
   ]
  },
  {
   "cell_type": "code",
   "execution_count": 7,
   "id": "ac0fe0ef",
   "metadata": {},
   "outputs": [
    {
     "name": "stdout",
     "output_type": "stream",
     "text": [
      "Dictionary Iteration\n",
      "xyz  123\n",
      "abc  345\n"
     ]
    }
   ],
   "source": [
    "print(\"Dictionary Iteration\")\n",
    "\n",
    "# d= {123:'xyx',345:'abc'}\n",
    "d =dict()\n",
    "d['xyz']= 123\n",
    "d['abc']= 345\n",
    "\n",
    "for i in d:\n",
    "    print(\"% s % d\" % (i,d[i]))"
   ]
  },
  {
   "cell_type": "code",
   "execution_count": 12,
   "id": "634f200a",
   "metadata": {},
   "outputs": [
    {
     "name": "stdout",
     "output_type": "stream",
     "text": [
      "0\n",
      "2\n",
      "4\n",
      "6\n",
      "8\n"
     ]
    }
   ],
   "source": [
    "for i in range(0,10,2):\n",
    "    print(i)"
   ]
  },
  {
   "cell_type": "code",
   "execution_count": 13,
   "id": "7b09d848",
   "metadata": {},
   "outputs": [
    {
     "name": "stdout",
     "output_type": "stream",
     "text": [
      "String Iteration\n",
      "g\n",
      "e\n",
      "e\n",
      "k\n",
      "s\n"
     ]
    }
   ],
   "source": [
    "print(\"String Iteration\")\n",
    "\n",
    "s='geeks'\n",
    "\n",
    "for i in s:\n",
    "    print(i)"
   ]
  },
  {
   "cell_type": "code",
   "execution_count": 14,
   "id": "0a82b7b9",
   "metadata": {},
   "outputs": [
    {
     "name": "stdout",
     "output_type": "stream",
     "text": [
      "1 1\n",
      "1 2\n",
      "1 3\n",
      "2 1\n",
      "2 2\n",
      "2 3\n",
      "3 1\n",
      "3 2\n",
      "3 3\n"
     ]
    }
   ],
   "source": [
    "for i in range(1,4):\n",
    "    for j in range(1,4):\n",
    "        print(i,j)"
   ]
  },
  {
   "cell_type": "code",
   "execution_count": 15,
   "id": "fc26f0ae",
   "metadata": {},
   "outputs": [
    {
     "name": "stdout",
     "output_type": "stream",
     "text": [
      "Current:  g\n",
      "Current:  k\n",
      "Current:  f\n",
      "Current:  o\n",
      "Current:  r\n",
      "Current:  g\n",
      "Current:  k\n"
     ]
    }
   ],
   "source": [
    "# Python continue Statement returns the control to the beginning of the loop.\n",
    "# Prints all letters except 'e' and 's' \n",
    "\n",
    "for letter in 'geeksforgeeks':\n",
    "    if letter == 'e' or letter == 's':\n",
    "        continue\n",
    "    print('Current: ',letter)"
   ]
  },
  {
   "cell_type": "code",
   "execution_count": 17,
   "id": "669c2360",
   "metadata": {},
   "outputs": [
    {
     "name": "stdout",
     "output_type": "stream",
     "text": [
      "Current letter:  e\n"
     ]
    }
   ],
   "source": [
    "for letter in 'geeksforgeeks':\n",
    "    # break the loop as soon it sees 'e' \n",
    "    # or 's'\n",
    "    if letter=='e' or letter == 's':\n",
    "        break\n",
    "        \n",
    "print('Current letter: ',letter)"
   ]
  },
  {
   "cell_type": "code",
   "execution_count": 18,
   "id": "0ef6c266",
   "metadata": {},
   "outputs": [
    {
     "name": "stdout",
     "output_type": "stream",
     "text": [
      "Last letter :  s\n"
     ]
    }
   ],
   "source": [
    "# The pass statement to write empty loops. Pass is also used for empty control statements, functions, and classes.\n",
    "\n",
    "for letter in 'geeksforgeeks':\n",
    "    pass\n",
    "print('Last letter : ',letter)"
   ]
  },
  {
   "cell_type": "code",
   "execution_count": 20,
   "id": "8172a713",
   "metadata": {},
   "outputs": [
    {
     "name": "stdout",
     "output_type": "stream",
     "text": [
      "0123456789\n",
      "Sum of first 10 numbers:  45\n"
     ]
    }
   ],
   "source": [
    "# Python Program to \n",
    "# show range() basics \n",
    "  \n",
    "# printing a number\n",
    "\n",
    "for i in range(10):\n",
    "    print(i,end=\"\")\n",
    "    \n",
    "# performing sum of first 10 numbers \n",
    "sum = 0\n",
    "for i in range(1,10):\n",
    "    sum = sum + i\n",
    "print(\"\\nSum of first 10 numbers: \", sum)"
   ]
  },
  {
   "cell_type": "code",
   "execution_count": 21,
   "id": "02d2f4be",
   "metadata": {},
   "outputs": [
    {
     "name": "stdout",
     "output_type": "stream",
     "text": [
      "1\n",
      "2\n",
      "3\n",
      "No Break\n",
      "\n"
     ]
    }
   ],
   "source": [
    "# Python program to demonstrate \n",
    "# for-else loop\n",
    "\n",
    "for i in range(1,4):\n",
    "    print(i)\n",
    "else:\n",
    "    print(\"No Break\\n\")"
   ]
  },
  {
   "cell_type": "code",
   "execution_count": 23,
   "id": "7b9804a0",
   "metadata": {},
   "outputs": [
    {
     "name": "stdout",
     "output_type": "stream",
     "text": [
      "Washing shirts\n",
      "Washing pants\n",
      "Washing towel\n",
      "washing ['socks']\n"
     ]
    }
   ],
   "source": [
    "# Q1. Code to implement Continue statement in for-loop\n",
    "\n",
    "clothes = [\"shirts\",\"sock\",\"pants\",\"sock\",\"towel\"]\n",
    "paired_socks=[]\n",
    "\n",
    "for item in clothes:\n",
    "    if item == \"sock\":\n",
    "        continue\n",
    "    else:\n",
    "        print(f\"Washing {item}\")\n",
    "paired_socks.append(\"socks\")\n",
    "print(f\"washing {paired_socks}\")"
   ]
  },
  {
   "cell_type": "code",
   "execution_count": 29,
   "id": "deeff177",
   "metadata": {},
   "outputs": [
    {
     "name": "stdout",
     "output_type": "stream",
     "text": [
      "Day 1: Run 3.0 miles\n",
      "Day 2: Run 3.5 miles\n",
      "Day 3: Run 4.0 miles\n",
      "Day 4: Run 4.5 miles\n",
      "Day 5: Run 5.0 miles\n",
      "Day 6: Run 5.5 miles\n",
      "Day 7: Run 6.0 miles\n"
     ]
    }
   ],
   "source": [
    "# Q2. Code to implement range function in for-loop\n",
    "\n",
    "for day in range(1,8):\n",
    "    distance = 3 + (day - 1) * 0.5\n",
    "    print(f\"Day {day}: Run {distance:.1f} miles\")"
   ]
  },
  {
   "cell_type": "code",
   "execution_count": 30,
   "id": "8077d8f1",
   "metadata": {},
   "outputs": [
    {
     "name": "stdout",
     "output_type": "stream",
     "text": [
      "1 4\n",
      "1 5\n",
      "2 4\n",
      "2 5\n"
     ]
    }
   ],
   "source": [
    "# Nested for loop\n",
    "x = [1,2]\n",
    "y = [4,5]\n",
    "\n",
    "for i in x:\n",
    "    for j in y:\n",
    "        print(i,j)\n",
    "    "
   ]
  },
  {
   "cell_type": "code",
   "execution_count": 31,
   "id": "da0b78e6",
   "metadata": {},
   "outputs": [
    {
     "name": "stdout",
     "output_type": "stream",
     "text": [
      "1 4\n",
      "1 5\n",
      "2 4\n",
      "2 5\n"
     ]
    }
   ],
   "source": [
    "x = [1,2]\n",
    "y = [4,5]\n",
    "i=0\n",
    "\n",
    "while i < len(x):\n",
    "    j=0\n",
    "    while j <len(y):\n",
    "        print(x[i], y[j])\n",
    "        j=j+1\n",
    "    i = i+1"
   ]
  },
  {
   "cell_type": "code",
   "execution_count": 3,
   "id": "a371415c",
   "metadata": {},
   "outputs": [
    {
     "name": "stdout",
     "output_type": "stream",
     "text": [
      "****\n",
      "****"
     ]
    }
   ],
   "source": [
    "for j in range(4):\n",
    "    print(\"*\",end=\"\")\n",
    "print()\n",
    "for j in range(4):\n",
    "    print(\"*\",end=\"\")"
   ]
  },
  {
   "cell_type": "code",
   "execution_count": 1,
   "id": "d6ded86c",
   "metadata": {},
   "outputs": [
    {
     "name": "stdout",
     "output_type": "stream",
     "text": [
      "*\n",
      "*\n",
      "*\n",
      "*\n",
      "*\n",
      "*\n",
      "*\n",
      "*\n",
      "*\n",
      "*\n",
      "*\n",
      "*\n",
      "*\n",
      "*\n",
      "*\n",
      "*\n"
     ]
    }
   ],
   "source": [
    "for i in range(4):\n",
    "    for j in range(4):\n",
    "        print(\"*\",)"
   ]
  },
  {
   "cell_type": "code",
   "execution_count": 13,
   "id": "16efc33c",
   "metadata": {},
   "outputs": [
    {
     "name": "stdout",
     "output_type": "stream",
     "text": [
      "0\n",
      "1\n",
      "1\n",
      "2\n",
      "3\n",
      "5\n",
      "8\n",
      "13\n",
      "21\n",
      "34\n"
     ]
    }
   ],
   "source": [
    "# Fibonaci series\n",
    "def fib(n):\n",
    "    a=0\n",
    "    b=1\n",
    "    if n==1:\n",
    "        print(a)\n",
    "    elif n>1:\n",
    "        print(a)\n",
    "        print(b)\n",
    "    else:\n",
    "        return False\n",
    "    for i in range(2,n):\n",
    "        c=a+b\n",
    "        a=b\n",
    "        b=c\n",
    "        print(c)\n",
    "\n",
    "fib(10)"
   ]
  },
  {
   "cell_type": "code",
   "execution_count": 16,
   "id": "7e40a7c7",
   "metadata": {},
   "outputs": [
    {
     "name": "stdout",
     "output_type": "stream",
     "text": [
      "24\n"
     ]
    }
   ],
   "source": [
    "# Factorial\n",
    "def fact(n):\n",
    "    f=1\n",
    "    for i in range(1,n+1):\n",
    "        f=f*i\n",
    "    return f\n",
    "\n",
    "x=4\n",
    "result = fact(x)\n",
    "\n",
    "print(result)\n",
    "        \n",
    "    "
   ]
  },
  {
   "cell_type": "code",
   "execution_count": 19,
   "id": "d2e7b97d",
   "metadata": {},
   "outputs": [
    {
     "name": "stdout",
     "output_type": "stream",
     "text": [
      "hello\n"
     ]
    }
   ],
   "source": [
    "# recursion\n",
    "def greet():\n",
    "    print(\"hello\")\n",
    "#     greet()\n",
    "    \n",
    "greet()"
   ]
  },
  {
   "cell_type": "code",
   "execution_count": 4,
   "id": "264d683e",
   "metadata": {},
   "outputs": [
    {
     "name": "stdout",
     "output_type": "stream",
     "text": [
      "25\n"
     ]
    }
   ],
   "source": [
    "def square(a):\n",
    "    return a*a\n",
    "      \n",
    "result = square(5)\n",
    "print(result)"
   ]
  },
  {
   "cell_type": "code",
   "execution_count": 5,
   "id": "d3ef3dd0",
   "metadata": {},
   "outputs": [
    {
     "name": "stdout",
     "output_type": "stream",
     "text": [
      "36\n"
     ]
    }
   ],
   "source": [
    "f = lambda a : a*a\n",
    "\n",
    "result = f(6)\n",
    "print(result)"
   ]
  },
  {
   "cell_type": "code",
   "execution_count": 6,
   "id": "10aa586d",
   "metadata": {},
   "outputs": [
    {
     "name": "stdout",
     "output_type": "stream",
     "text": [
      "7\n"
     ]
    }
   ],
   "source": [
    "f = lambda a,b : a+b\n",
    "\n",
    "result = f(4,3)\n",
    "print(result)"
   ]
  },
  {
   "cell_type": "code",
   "execution_count": 10,
   "id": "2dc9118b",
   "metadata": {},
   "outputs": [
    {
     "name": "stdout",
     "output_type": "stream",
     "text": [
      "[2, 6, 8, 22]\n",
      "[4, 12, 16, 44]\n"
     ]
    }
   ],
   "source": [
    "# filter\n",
    "def is_even(n):\n",
    "    return n%2==0\n",
    "\n",
    "def update(i):\n",
    "    return i*2\n",
    "\n",
    "nums = [3,2,5,6,7,8,9,22,11]\n",
    "\n",
    "evens = list(filter(is_even,nums))\n",
    "doubles = list(map(update,evens))\n",
    "print(evens)\n",
    "print(doubles)"
   ]
  },
  {
   "cell_type": "code",
   "execution_count": 12,
   "id": "14937faa",
   "metadata": {},
   "outputs": [
    {
     "name": "stdout",
     "output_type": "stream",
     "text": [
      "[2, 6, 8, 22]\n",
      "76\n"
     ]
    }
   ],
   "source": [
    "from functools import reduce\n",
    "nums = [3,2,5,6,7,8,9,22,11]\n",
    "# filter with lamda function\n",
    "evens = list(filter(lambda n:n%2==0,nums))\n",
    "# Map\n",
    "doubles = list(map(lambda n:n*2,evens))\n",
    "# Reduce\n",
    "sums = reduce(lambda a,b:a+b,doubles)\n",
    "print(evens)\n",
    "print(sums)"
   ]
  },
  {
   "cell_type": "code",
   "execution_count": 15,
   "id": "26ec51bc",
   "metadata": {},
   "outputs": [
    {
     "name": "stdout",
     "output_type": "stream",
     "text": [
      "2.0\n"
     ]
    }
   ],
   "source": [
    "# Decorators\n",
    "def div(a,b):\n",
    "    print(a/b) \n",
    "    \n",
    "def smart_div(func):\n",
    "    def inner(a,b):\n",
    "        if a<b:\n",
    "            a,b=b,a\n",
    "        return func(a,b)\n",
    "    return inner\n",
    "\n",
    "div = smart_div(div)\n",
    "\n",
    "div(2,4)\n"
   ]
  },
  {
   "cell_type": "code",
   "execution_count": 1,
   "id": "67c180c0",
   "metadata": {},
   "outputs": [
    {
     "name": "stdout",
     "output_type": "stream",
     "text": [
      "mammal\n",
      "I'm a mammal\n",
      "I'm a Dog\n"
     ]
    }
   ],
   "source": [
    "class Dog:\n",
    "    attr1 = \"mammal\"\n",
    "    attr2 = \"Dog\"\n",
    "    \n",
    "    def fun(self):\n",
    "        print(\"I'm a\",self.attr1)\n",
    "        print(\"I'm a\",self.attr2)\n",
    "        \n",
    "\n",
    "rodger = Dog()\n",
    "\n",
    "print(rodger.attr1)\n",
    "rodger.fun()\n"
   ]
  },
  {
   "cell_type": "code",
   "execution_count": 3,
   "id": "ffcbd23c",
   "metadata": {},
   "outputs": [],
   "source": [
    "# Empty Class\n",
    "class A:\n",
    "    pass\n",
    "\n",
    "obj=A()"
   ]
  },
  {
   "cell_type": "code",
   "execution_count": 6,
   "id": "8d32ce0e",
   "metadata": {},
   "outputs": [
    {
     "name": "stdout",
     "output_type": "stream",
     "text": [
      "10\n"
     ]
    }
   ],
   "source": [
    "class A:\n",
    "    def __init__(self):\n",
    "        age =10\n",
    "        print(age)\n",
    "    \n",
    "obj = A()"
   ]
  },
  {
   "cell_type": "code",
   "execution_count": 10,
   "id": "2a0996fd",
   "metadata": {},
   "outputs": [
    {
     "name": "stdout",
     "output_type": "stream",
     "text": [
      "Learn coding\n",
      "10\n",
      "10\n"
     ]
    }
   ],
   "source": [
    "class A:\n",
    "    age = 10\n",
    "    def fun(self):\n",
    "        name = \"Learn coding\"\n",
    "        print(name)\n",
    "        \n",
    "o = A()\n",
    "o.fun()\n",
    "print(o.age)\n",
    "print(A.age)"
   ]
  },
  {
   "cell_type": "code",
   "execution_count": 12,
   "id": "ee9c5ff1",
   "metadata": {},
   "outputs": [
    {
     "name": "stdout",
     "output_type": "stream",
     "text": [
      "10 Sanket Windsor\n"
     ]
    }
   ],
   "source": [
    "class B:\n",
    "    \n",
    "    def fun(self,age,name,address):\n",
    "        print(age,name,address)\n",
    "        \n",
    "obj=B()\n",
    "obj.fun(10,\"Sanket\",\"Windsor\")"
   ]
  },
  {
   "cell_type": "code",
   "execution_count": null,
   "id": "823d66ff",
   "metadata": {},
   "outputs": [],
   "source": [
    "# constructor\n",
    "class A:\n",
    "    pass\n",
    "obj = A()"
   ]
  },
  {
   "cell_type": "code",
   "execution_count": 2,
   "id": "2d7df694",
   "metadata": {},
   "outputs": [
    {
     "name": "stdout",
     "output_type": "stream",
     "text": [
      "Sanket\n"
     ]
    }
   ],
   "source": [
    "class A:\n",
    "    age =22\n",
    "    def __init__(self):\n",
    "        self.name =\"Sanket\"\n",
    "        print(self.name)\n",
    "obj =A()"
   ]
  },
  {
   "cell_type": "raw",
   "id": "78391561",
   "metadata": {},
   "source": [
    "What is default Constructor?\n",
    "\n",
    "Default constructor are also called empty constructor.Because it doesnt have any parameters.\n",
    "\n",
    "Notes:\n",
    "If we do not define any constructor, the compiler automatically calls the default constructor."
   ]
  },
  {
   "cell_type": "code",
   "execution_count": 3,
   "id": "6e143526",
   "metadata": {},
   "outputs": [
    {
     "name": "stdout",
     "output_type": "stream",
     "text": [
      "Sanket\n",
      "22\n"
     ]
    }
   ],
   "source": [
    "# Default Constructor\n",
    "\n",
    "class A:\n",
    "    name = \"Sanket\"\n",
    "    age = 22\n",
    "    def __init__(self):\n",
    "        print(self.name)\n",
    "    def Show(self):\n",
    "        print(self.age)\n",
    "        \n",
    "obj = A()  \n",
    "obj.Show()"
   ]
  },
  {
   "cell_type": "raw",
   "id": "b1885168",
   "metadata": {},
   "source": [
    "What is parametrized Constructor?\n",
    "\n",
    "Parametrized constructor accept arguements along with self, it is known as parmetrize constructor.\n"
   ]
  },
  {
   "cell_type": "raw",
   "id": "3ce8a60a",
   "metadata": {},
   "source": [
    "what is access modifier?\n",
    "\n",
    "Access modifier are used to set the limit of member accessibility.\n"
   ]
  },
  {
   "cell_type": "code",
   "execution_count": 10,
   "id": "ad549cbd",
   "metadata": {},
   "outputs": [
    {
     "name": "stdout",
     "output_type": "stream",
     "text": [
      "10  20  None\n",
      "Addition : 30\n",
      "10\n",
      "20\n"
     ]
    }
   ],
   "source": [
    "# Access Modifiers\n",
    "\n",
    "class A:\n",
    "    a = 10 #Public class\n",
    "    _b = 20 #Protected\n",
    "    __c = None # Private\n",
    "    print(a,\"\",_b,\"\",__c)\n",
    "    def Add(self):\n",
    "        self.__c=self.a+self._b\n",
    "        print(\"Addition :\",self.__c)\n",
    "        \n",
    "    \n",
    "obj = A()\n",
    "obj.Add()\n",
    "print(obj.a)\n",
    "print(obj._b)\n",
    "# print(obj.__c)"
   ]
  },
  {
   "cell_type": "raw",
   "id": "bf8a5788",
   "metadata": {},
   "source": [
    "What is inheritance?\n",
    "\n",
    "When we define a class that inherits all the properties of other class called inheritance."
   ]
  },
  {
   "cell_type": "code",
   "execution_count": 11,
   "id": "55bd9a85",
   "metadata": {},
   "outputs": [
    {
     "name": "stdout",
     "output_type": "stream",
     "text": [
      "Having 50 acre land\n",
      "Having 10 lakh Money\n"
     ]
    }
   ],
   "source": [
    "# python Inheritance \n",
    "class Father:\n",
    "    def lands(self):\n",
    "        print(\"Having 50 acre land\")\n",
    "\n",
    "class Son(Father):\n",
    "    def Money(self):\n",
    "        print(\"Having 10 lakh Money\")\n",
    "        \n",
    "s=Son()\n",
    "s.lands()\n",
    "s.Money()"
   ]
  },
  {
   "cell_type": "raw",
   "id": "481ce073",
   "metadata": {},
   "source": [
    "What is Simple Ingeritance?\n",
    "\n",
    "Simple inheritance is nothing but which contain only one parent class and only one child class.\n",
    "\n",
    "[Parent class]\n",
    "     ^\n",
    "     |\n",
    "     |\n",
    "     |\n",
    "[Child class]"
   ]
  },
  {
   "cell_type": "code",
   "execution_count": 14,
   "id": "cfb84543",
   "metadata": {},
   "outputs": [
    {
     "name": "stdout",
     "output_type": "stream",
     "text": [
      "Enter the first number: 34\n",
      "Enter the Second number: 23\n",
      "Addition:  57\n",
      "Subtraction:  11\n",
      "Multiplication:  782\n",
      "Div:  1.4782608695652173\n",
      "Reminder:  11\n"
     ]
    }
   ],
   "source": [
    "# Simple Inheritance\n",
    "# Parent Class\n",
    "class A:\n",
    "    num1 = int(input(\"Enter the first number: \"))\n",
    "    num2 = int(input(\"Enter the Second number: \"))\n",
    "    \n",
    "    def Add(self):\n",
    "        print(\"Addition: \",self.num1 + self.num2)\n",
    "    \n",
    "    def Sub(self):\n",
    "        print(\"Subtraction: \",self.num1 - self.num2)\n",
    "    \n",
    "    \n",
    "# Child Class    \n",
    "class B(A):\n",
    "    def Multi(self):\n",
    "        print(\"Multiplication: \",self.num1*self.num2)\n",
    "        \n",
    "    def Div(self):\n",
    "        print(\"Div: \",self.num1/self.num2)\n",
    "    \n",
    "    def Rem(self):\n",
    "        print(\"Reminder: \",self.num1%self.num2)\n",
    "        \n",
    "obj =B()\n",
    "obj.Add()\n",
    "obj.Sub()\n",
    "obj.Multi()\n",
    "obj.Div()\n",
    "obj.Rem()\n",
    "\n"
   ]
  },
  {
   "cell_type": "raw",
   "id": "fc46e0c3",
   "metadata": {},
   "source": [
    "What is multi-level inheritance?\n",
    "\n",
    "In this inheritance we have one parent class and multiple child class.\n",
    "\n",
    "[Parent class]\n",
    "     ^\n",
    "     |\n",
    "     |\n",
    "     |\n",
    "[Child 1 class]\n",
    "     ^\n",
    "     |\n",
    "     |\n",
    "     |\n",
    "[Child 2 class]\n"
   ]
  },
  {
   "cell_type": "code",
   "execution_count": 17,
   "id": "3ef04314",
   "metadata": {},
   "outputs": [
    {
     "name": "stdout",
     "output_type": "stream",
     "text": [
      "Sanket Iyer\n",
      "asfdgj Iyer\n",
      "Sanket Iyer\n"
     ]
    }
   ],
   "source": [
    "# Multi-Level Inheritance\n",
    "# Parent Class\n",
    "class Father:\n",
    "    surname = \"Iyer\" \n",
    "#Child 1 Class\n",
    "class Son(Father):\n",
    "    def Show(self):\n",
    "        print(\"Sanket\",self.surname)\n",
    "# child 2 class\n",
    "class GSon(Son):\n",
    "    def Disp(self):\n",
    "        print(\"asfdgj\",self.surname)\n",
    "        \n",
    "S = Son()\n",
    "GS = GSon()\n",
    "S.Show()\n",
    "GS.Disp()\n",
    "GS.Show()\n"
   ]
  },
  {
   "cell_type": "raw",
   "id": "db41c1b2",
   "metadata": {},
   "source": [
    "What is multiple inheritance?\n",
    "\n",
    "Inheritance which contain more parent classes and inly one child class is called multiple inheritance.\n",
    "\n",
    "[parent 1]  [parent 2]  [parent 3]\n",
    "    ^           ^           ^\n",
    "    |           |           |\n",
    "    |           |           |\n",
    "    |           |           |\n",
    "    _________________________\n",
    "                |\n",
    "                |\n",
    "             [Child]\n",
    "             "
   ]
  },
  {
   "cell_type": "code",
   "execution_count": 19,
   "id": "bd22d3af",
   "metadata": {},
   "outputs": [
    {
     "name": "stdout",
     "output_type": "stream",
     "text": [
      "Backend task implemented using: Oracle DB and Java\n",
      "Frontend Task implemented using:  HTML CSS javascript\n",
      "Dynamic Website...\n"
     ]
    }
   ],
   "source": [
    "# Multiple Inheritance\n",
    "class A:\n",
    "    Back = \"Oracle DB and Java\"\n",
    "    def Backend(self):\n",
    "        print(\"Backend task implemented using:\",self.Back)\n",
    "\n",
    "class B:\n",
    "    Front= \"HTML CSS javascript\"\n",
    "    def Frontend(self):\n",
    "        print(\"Frontend Task implemented using: \",self.Front)\n",
    "class TeamLead(A,B):\n",
    "    def Show(self):\n",
    "        print(\"Dynamic Website...\")\n",
    "        \n",
    "\n",
    "T= TeamLead()\n",
    "T.Backend()\n",
    "T.Frontend()\n",
    "T.Show()\n",
    "        "
   ]
  },
  {
   "cell_type": "raw",
   "id": "ec046228",
   "metadata": {},
   "source": [
    "What is hierarchial inheritance?\n",
    "\n",
    "Inheritance which contain only one parent class and multiple child classes but each child calsses can access parent class property.\n",
    "\n",
    "\n",
    "                    `[Parent Class]\n",
    "                           ^\n",
    "                           |\n",
    "                           |\n",
    "                    _______________\n",
    "                    |              |\n",
    "                    |              |\n",
    "                [Class 1]       [Class 2]\n",
    "                "
   ]
  },
  {
   "cell_type": "code",
   "execution_count": 21,
   "id": "603c6ccd",
   "metadata": {},
   "outputs": [
    {
     "name": "stdout",
     "output_type": "stream",
     "text": [
      "My name is Sanket Iyer\n",
      "My name is asfnmd Iyer\n"
     ]
    }
   ],
   "source": [
    "# Hierarchial Inheritance\n",
    "\n",
    "class Father:\n",
    "    surname = \"Iyer\"\n",
    "    def Show(self):\n",
    "        print(\"My Surname is \", self.surname)\n",
    "        \n",
    "class Son1(Father):\n",
    "    def Disp(self):\n",
    "        print(\"My name is Sanket\",self.surname)\n",
    "        \n",
    "class Son2(Father):\n",
    "    def Out(self):\n",
    "        print(\"My name is asfnmd\",self.surname)\n",
    "    \n",
    "s1= Son1()\n",
    "s2 = Son2()\n",
    "s1.Disp()\n",
    "s2.Out()\n",
    "        "
   ]
  },
  {
   "cell_type": "raw",
   "id": "7f27194f",
   "metadata": {},
   "source": [
    "What is encapsulation?\n",
    "\n",
    "python provides access to all the variable and methods globally.\n",
    "by using encapsulation we can restrict the variables and methods access globally by making it private or protected.\n",
    "\n",
    "Note:\n",
    "1)Single underscore(Protected)\n",
    "2)Double Underscore(Private)\n",
    "\n"
   ]
  },
  {
   "cell_type": "code",
   "execution_count": 25,
   "id": "007292b5",
   "metadata": {},
   "outputs": [
    {
     "name": "stdout",
     "output_type": "stream",
     "text": [
      "a = 10\n",
      "b = 20\n"
     ]
    }
   ],
   "source": [
    "#  Encapsulation\n",
    "\n",
    "class A:\n",
    "    _a = 10 #protected\n",
    "    __b = 20 #Private\n",
    "    def Show(self):\n",
    "        print(\"a =\",self._a)\n",
    "        print(\"b =\",self.__b)\n",
    "\n",
    "obj = A()\n",
    "obj.Show()"
   ]
  },
  {
   "cell_type": "raw",
   "id": "4372dc58",
   "metadata": {},
   "source": [
    "What is abstraction?\n",
    "\n",
    "Abstraction is a process of hiding the implementation details from the user only the highlighted set of services provided to the user."
   ]
  },
  {
   "cell_type": "raw",
   "id": "e9fc36f6",
   "metadata": {},
   "source": [
    "What is abstract class?\n",
    "\n",
    "Abstract class is a class that contains one or more absract method is called abstract class.\n",
    "\n",
    "note:\n",
    "1) An object of an an abstract class cannot be created.\n",
    "\n",
    "2) python provides abc module to work with abstraction.\n",
    "\n",
    "3) We use @abstractmethod decorator to define abstract method"
   ]
  },
  {
   "cell_type": "code",
   "execution_count": 2,
   "id": "347a5f0f",
   "metadata": {},
   "outputs": [
    {
     "name": "stdout",
     "output_type": "stream",
     "text": [
      "Every Car has two wheels\n",
      "Speed is 100km/hr\n",
      "Every Car has two wheels\n",
      "Speed is 80km/hr\n"
     ]
    }
   ],
   "source": [
    "# Abstract Class\n",
    "from abc import ABC,abstractmethod\n",
    "\n",
    "class Car(ABC):\n",
    "    def Show(self):\n",
    "        print(\"Every Car has two wheels\")\n",
    "    @abstractmethod\n",
    "    def Speed(self):\n",
    "        pass\n",
    "    \n",
    "class Maruti(Car):\n",
    "    def Speed(self):\n",
    "        print(\"Speed is 100km/hr\")\n",
    "        \n",
    "class Ford(Car):\n",
    "    def Speed(self):\n",
    "        print(\"Speed is 80km/hr\")\n",
    "        \n",
    "M = Maruti()\n",
    "M.Show()\n",
    "M.Speed()\n",
    "\n",
    "F = Ford()\n",
    "F.Show()\n",
    "F.Speed()\n",
    "\n",
    "        "
   ]
  },
  {
   "cell_type": "raw",
   "id": "3e9df270",
   "metadata": {},
   "source": [
    "What is interface?\n",
    "\n",
    "Interface is nothing but abstract class which contains only abstract method but not any normal method."
   ]
  },
  {
   "cell_type": "raw",
   "id": "cdb58740",
   "metadata": {},
   "source": [
    "What is Polymorphism?\n",
    "\n",
    "Polymorphism means ability to take various forms.(Same object having differnt behaviour)."
   ]
  },
  {
   "cell_type": "raw",
   "id": "b00191f2",
   "metadata": {},
   "source": [
    "What is method overloading?\n",
    "\n",
    "Whenever class contains more than one methods with same name and different types parmaeter called overloading."
   ]
  },
  {
   "cell_type": "code",
   "execution_count": 6,
   "id": "b7368007",
   "metadata": {},
   "outputs": [
    {
     "name": "stdout",
     "output_type": "stream",
     "text": [
      "Welcome  \n",
      "Welcome Sanket \n",
      "Welcome Sanket Iyer\n"
     ]
    }
   ],
   "source": [
    "# Method Overloading\n",
    "class A:\n",
    "    def Show(self):\n",
    "        print(\"Welcome\")\n",
    "    def Show(self,firstname=''):\n",
    "        print(\"Welcome\",firstname)\n",
    "    def Show(self,firstname='',lastname=''):\n",
    "        print(\"Welcome\",firstname,lastname)\n",
    "        \n",
    "obj = A()\n",
    "obj.Show()\n",
    "obj.Show('Sanket')\n",
    "obj.Show('Sanket','Iyer')"
   ]
  },
  {
   "cell_type": "raw",
   "id": "89971250",
   "metadata": {},
   "source": [
    "What is method overriding?\n",
    "\n",
    "whenever we are writing method name with same signature in parent & child classs called method overriding."
   ]
  },
  {
   "cell_type": "code",
   "execution_count": null,
   "id": "6808571e",
   "metadata": {},
   "outputs": [],
   "source": [
    "# Method overriding\n",
    "# parent Class\n",
    "class A:\n",
    "    def Disp(self):\n",
    "        print(\"This is parent Clas\")\n",
    "# Child class\n",
    "class B(A):\n",
    "    pass"
   ]
  },
  {
   "cell_type": "code",
   "execution_count": 1,
   "id": "d141cb19",
   "metadata": {},
   "outputs": [
    {
     "name": "stdout",
     "output_type": "stream",
     "text": [
      "*****\n"
     ]
    }
   ],
   "source": [
    "n = 5\n",
    "print(\"*\"*n)"
   ]
  },
  {
   "cell_type": "code",
   "execution_count": 6,
   "id": "c308a558",
   "metadata": {},
   "outputs": [
    {
     "name": "stdout",
     "output_type": "stream",
     "text": [
      "*****\n",
      "*****\n",
      "*****\n",
      "*****\n",
      "*****\n"
     ]
    }
   ],
   "source": [
    "n = 5 \n",
    "for i in range(n):\n",
    "    for j in range(n):\n",
    "        print(\"*\",end=\"\")\n",
    "    print()\n",
    "    \n"
   ]
  },
  {
   "cell_type": "code",
   "execution_count": 9,
   "id": "f70b06bf",
   "metadata": {},
   "outputs": [
    {
     "name": "stdout",
     "output_type": "stream",
     "text": [
      "*\n",
      "**\n",
      "***\n",
      "****\n",
      "*****\n"
     ]
    }
   ],
   "source": [
    "n = 5 \n",
    "for i in range(n):\n",
    "    for j in range(i+1):\n",
    "        print(\"*\",end=\"\")\n",
    "    print()\n",
    "    \n"
   ]
  },
  {
   "cell_type": "code",
   "execution_count": 11,
   "id": "e22605bc",
   "metadata": {},
   "outputs": [
    {
     "name": "stdout",
     "output_type": "stream",
     "text": [
      "*****\n",
      "****\n",
      "***\n",
      "**\n",
      "*\n"
     ]
    }
   ],
   "source": [
    "n = 5 \n",
    "for i in range(n):\n",
    "    for j in range(i,n):\n",
    "        print(\"*\",end=\"\")\n",
    "    print()"
   ]
  },
  {
   "cell_type": "code",
   "execution_count": 43,
   "id": "e0bb4f74",
   "metadata": {},
   "outputs": [
    {
     "name": "stdout",
     "output_type": "stream",
     "text": [
      "$$\n",
      "$ $\n",
      "$  $\n",
      "$   $\n",
      "$    $\n",
      "$     $\n",
      "$      $\n"
     ]
    }
   ],
   "source": [
    "n = 7\n",
    "s = 0\n",
    "\n",
    "for i in range(n):\n",
    "    print(\"$\" + \" \" * s + \"$\")\n",
    "    s = s + 1\n",
    "\n",
    "    "
   ]
  },
  {
   "cell_type": "code",
   "execution_count": 1,
   "id": "94d9ccdb",
   "metadata": {},
   "outputs": [
    {
     "name": "stdout",
     "output_type": "stream",
     "text": [
      "18\n",
      " Weird\n"
     ]
    }
   ],
   "source": [
    "#!/bin/python3\n",
    "\n",
    "import math\n",
    "import os\n",
    "import random\n",
    "import re\n",
    "import sys\n",
    "\n",
    "\n",
    "\n",
    "if __name__ == '__main__':\n",
    "    n = int(input().strip())\n",
    "if n%2==0 and 2<=n<=5 :\n",
    "    print(\"Not Weird\")\n",
    "    \n",
    "elif n%2==0 and 6<=n<=20:\n",
    "    print(\" Weird\")\n",
    "elif n%2==0 and n>=20:\n",
    "    print(\"Not Weird\")\n",
    "else:\n",
    "    print(\"Weird\")\n",
    "\n",
    "    "
   ]
  },
  {
   "cell_type": "code",
   "execution_count": null,
   "id": "6901409f",
   "metadata": {},
   "outputs": [],
   "source": [
    "if __name__ == '__main__':\n",
    "    n = int(input())\n",
    "    \n",
    "    def count():\n",
    "        for i in n(0,n):\n",
    "            return i \n",
    "        i +=1\n",
    "        \n",
    "x = count(n)\n",
    "print(x)"
   ]
  },
  {
   "cell_type": "code",
   "execution_count": 1,
   "id": "832026a8",
   "metadata": {
    "scrolled": false
   },
   "outputs": [
    {
     "ename": "KeyboardInterrupt",
     "evalue": "Interrupted by user",
     "output_type": "error",
     "traceback": [
      "\u001b[1;31m---------------------------------------------------------------------------\u001b[0m",
      "\u001b[1;31mKeyboardInterrupt\u001b[0m                         Traceback (most recent call last)",
      "Cell \u001b[1;32mIn[1], line 1\u001b[0m\n\u001b[1;32m----> 1\u001b[0m user_input \u001b[38;5;241m=\u001b[39m \u001b[38;5;28mstr\u001b[39m(\u001b[38;5;28;43minput\u001b[39;49m\u001b[43m(\u001b[49m\u001b[38;5;124;43m\"\u001b[39;49m\u001b[38;5;124;43mEnter a string to type: \u001b[39;49m\u001b[38;5;124;43m\"\u001b[39;49m\u001b[43m)\u001b[49m)\n\u001b[0;32m      3\u001b[0m your_variable_name \u001b[38;5;241m=\u001b[39m \\\n\u001b[0;32m      4\u001b[0m [\u001b[38;5;124m\"\u001b[39m\u001b[38;5;124mabcdefghijklm\u001b[39m\u001b[38;5;124m\"\u001b[39m, \u001b[38;5;66;03m#your_variable_name[0]\u001b[39;00m\n\u001b[0;32m      5\u001b[0m  \u001b[38;5;124m\"\u001b[39m\u001b[38;5;124mnopqrstuvwxyz\u001b[39m\u001b[38;5;124m\"\u001b[39m] \u001b[38;5;66;03m#your_variable_name\u001b[39;00m\n\u001b[0;32m      7\u001b[0m \u001b[38;5;28mlist\u001b[39m\u001b[38;5;241m=\u001b[39m[]\n",
      "File \u001b[1;32m~\\AppData\\Local\\Programs\\Python\\Python311\\Lib\\site-packages\\ipykernel\\kernelbase.py:1187\u001b[0m, in \u001b[0;36mKernel.raw_input\u001b[1;34m(self, prompt)\u001b[0m\n\u001b[0;32m   1185\u001b[0m     msg \u001b[38;5;241m=\u001b[39m \u001b[38;5;124m\"\u001b[39m\u001b[38;5;124mraw_input was called, but this frontend does not support input requests.\u001b[39m\u001b[38;5;124m\"\u001b[39m\n\u001b[0;32m   1186\u001b[0m     \u001b[38;5;28;01mraise\u001b[39;00m StdinNotImplementedError(msg)\n\u001b[1;32m-> 1187\u001b[0m \u001b[38;5;28;01mreturn\u001b[39;00m \u001b[38;5;28;43mself\u001b[39;49m\u001b[38;5;241;43m.\u001b[39;49m\u001b[43m_input_request\u001b[49m\u001b[43m(\u001b[49m\n\u001b[0;32m   1188\u001b[0m \u001b[43m    \u001b[49m\u001b[38;5;28;43mstr\u001b[39;49m\u001b[43m(\u001b[49m\u001b[43mprompt\u001b[49m\u001b[43m)\u001b[49m\u001b[43m,\u001b[49m\n\u001b[0;32m   1189\u001b[0m \u001b[43m    \u001b[49m\u001b[38;5;28;43mself\u001b[39;49m\u001b[38;5;241;43m.\u001b[39;49m\u001b[43m_parent_ident\u001b[49m\u001b[43m[\u001b[49m\u001b[38;5;124;43m\"\u001b[39;49m\u001b[38;5;124;43mshell\u001b[39;49m\u001b[38;5;124;43m\"\u001b[39;49m\u001b[43m]\u001b[49m\u001b[43m,\u001b[49m\n\u001b[0;32m   1190\u001b[0m \u001b[43m    \u001b[49m\u001b[38;5;28;43mself\u001b[39;49m\u001b[38;5;241;43m.\u001b[39;49m\u001b[43mget_parent\u001b[49m\u001b[43m(\u001b[49m\u001b[38;5;124;43m\"\u001b[39;49m\u001b[38;5;124;43mshell\u001b[39;49m\u001b[38;5;124;43m\"\u001b[39;49m\u001b[43m)\u001b[49m\u001b[43m,\u001b[49m\n\u001b[0;32m   1191\u001b[0m \u001b[43m    \u001b[49m\u001b[43mpassword\u001b[49m\u001b[38;5;241;43m=\u001b[39;49m\u001b[38;5;28;43;01mFalse\u001b[39;49;00m\u001b[43m,\u001b[49m\n\u001b[0;32m   1192\u001b[0m \u001b[43m\u001b[49m\u001b[43m)\u001b[49m\n",
      "File \u001b[1;32m~\\AppData\\Local\\Programs\\Python\\Python311\\Lib\\site-packages\\ipykernel\\kernelbase.py:1230\u001b[0m, in \u001b[0;36mKernel._input_request\u001b[1;34m(self, prompt, ident, parent, password)\u001b[0m\n\u001b[0;32m   1227\u001b[0m \u001b[38;5;28;01mexcept\u001b[39;00m \u001b[38;5;167;01mKeyboardInterrupt\u001b[39;00m:\n\u001b[0;32m   1228\u001b[0m     \u001b[38;5;66;03m# re-raise KeyboardInterrupt, to truncate traceback\u001b[39;00m\n\u001b[0;32m   1229\u001b[0m     msg \u001b[38;5;241m=\u001b[39m \u001b[38;5;124m\"\u001b[39m\u001b[38;5;124mInterrupted by user\u001b[39m\u001b[38;5;124m\"\u001b[39m\n\u001b[1;32m-> 1230\u001b[0m     \u001b[38;5;28;01mraise\u001b[39;00m \u001b[38;5;167;01mKeyboardInterrupt\u001b[39;00m(msg) \u001b[38;5;28;01mfrom\u001b[39;00m \u001b[38;5;28mNone\u001b[39m\n\u001b[0;32m   1231\u001b[0m \u001b[38;5;28;01mexcept\u001b[39;00m \u001b[38;5;167;01mException\u001b[39;00m:\n\u001b[0;32m   1232\u001b[0m     \u001b[38;5;28mself\u001b[39m\u001b[38;5;241m.\u001b[39mlog\u001b[38;5;241m.\u001b[39mwarning(\u001b[38;5;124m\"\u001b[39m\u001b[38;5;124mInvalid Message:\u001b[39m\u001b[38;5;124m\"\u001b[39m, exc_info\u001b[38;5;241m=\u001b[39m\u001b[38;5;28;01mTrue\u001b[39;00m)\n",
      "\u001b[1;31mKeyboardInterrupt\u001b[0m: Interrupted by user"
     ]
    }
   ],
   "source": [
    "user_input = str(input(\"Enter a string to type: \"))\n",
    "\n",
    "your_variable_name = \\\n",
    "[\"abcdefghijklm\", #your_variable_name[0]\n",
    " \"nopqrstuvwxyz\"] #your_variable_name\n",
    "\n",
    "list=[]\n",
    "\n",
    "for subset in user_input:\n",
    "    if subset in your_variable_name[0] or subset in your_variable_name[1]:\n",
    "        if subset in your_variable_name[0]:\n",
    "            index=your_variable_name[0].index(subset)\n",
    "            for i in range(0,index):\n",
    "                list.append('r')\n",
    "            list.append('p')\n",
    "            for x in list:\n",
    "                print(x,end='')\n",
    "\n",
    "        elif subset in your_variable_name[1]:\n",
    "            \n",
    "            index=your_variable_name[1].index(subset)\n",
    "            print(index)\n",
    "            for i in range(0,index):\n",
    "                list.append('r')\n",
    "            list.append('d')\n",
    "            list.append('p')\n",
    "            for x in list:\n",
    "                print(x,end='')\n",
    "\n",
    "    else:\n",
    "        print(\"The string cannot be typed out.\")\n",
    "\n"
   ]
  },
  {
   "cell_type": "code",
   "execution_count": null,
   "id": "db4c2275",
   "metadata": {},
   "outputs": [],
   "source": [
    "def plan_robbie_actions(input_string):\n",
    "    # Define the keyboard layout\n",
    "    keyboard = [\n",
    "        \"abcdefghijklm\",\n",
    "        \"nopqrstuvwxyz\"\n",
    "    ]\n",
    "    \n",
    "    # Create a dictionary to map each character to its (row, col) position on the keyboard\n",
    "    key_positions = {}\n",
    "    for r, row in enumerate(keyboard):\n",
    "        for c, char in enumerate(row):\n",
    "            key_positions[char] = (r, c)\n",
    "    \n",
    "    # Robbie starts at position 'a'\n",
    "    current_position = (0, 0)\n",
    "    \n",
    "    actions = []\n",
    "    \n",
    "    for char in input_string:\n",
    "        if char not in key_positions:\n",
    "            continue  # Skip characters not on the keyboard\n",
    "        \n",
    "        target_position = key_positions[char]\n",
    "        \n",
    "        # Calculate the horizontal and vertical moves needed\n",
    "        horizontal_move = target_position[1] - current_position[1]\n",
    "        vertical_move = target_position[0] - current_position[0]\n",
    "        \n",
    "        # Move horizontally\n",
    "        if horizontal_move > 0:\n",
    "            actions.append('r' * horizontal_move)\n",
    "        elif horizontal_move < 0:\n",
    "            actions.append('L' * -horizontal_move)\n",
    "        \n",
    "        # Move vertically\n",
    "        if vertical_move > 0:\n",
    "            actions.append('d' * vertical_move)\n",
    "        elif vertical_move < 0:\n",
    "            actions.append('u' * -vertical_move)\n",
    "        \n",
    "        # Press the key\n",
    "        actions.append('p')\n",
    "        \n",
    "        # Update Robbie's current position\n",
    "        current_position = target_position\n",
    "    \n",
    "    # Join all actions into a single string\n",
    "    return ''.join(actions)\n",
    "\n",
    "# Example usage:\n",
    "input_string = input(\"Enter the string Robbie should type: \")\n",
    "actions = plan_robbie_actions(input_string)\n",
    "print(\"Robbie's actions to type the string are:\", actions)\n",
    "\n",
    "\n",
    "\n"
   ]
  },
  {
   "cell_type": "code",
   "execution_count": null,
   "id": "000343bc",
   "metadata": {},
   "outputs": [],
   "source": [
    "if __name__ == '__main__':\n",
    "    n = int(input().strip())\n",
    "if n%2==0 and 2<=n<=5 :\n",
    "    print(\"Not Weird\")\n",
    "    \n",
    "elif n%2==0 and 6<=n<=20:\n",
    "    print(\" Weird\")\n",
    "elif n%2==0 and n>=20:\n",
    "    print(\"Not Weird\")\n",
    "else:\n",
    "    print(\"Weird\")"
   ]
  },
  {
   "cell_type": "code",
   "execution_count": null,
   "id": "519e0dd4",
   "metadata": {},
   "outputs": [],
   "source": [
    "n = int(input())\n",
    "\n",
    "for i in range(n):\n",
    "    print(i)"
   ]
  },
  {
   "cell_type": "code",
   "execution_count": null,
   "id": "fc776545",
   "metadata": {},
   "outputs": [],
   "source": []
  }
 ],
 "metadata": {
  "kernelspec": {
   "display_name": "Python 3 (ipykernel)",
   "language": "python",
   "name": "python3"
  },
  "language_info": {
   "codemirror_mode": {
    "name": "ipython",
    "version": 3
   },
   "file_extension": ".py",
   "mimetype": "text/x-python",
   "name": "python",
   "nbconvert_exporter": "python",
   "pygments_lexer": "ipython3",
   "version": "3.11.1"
  }
 },
 "nbformat": 4,
 "nbformat_minor": 5
}
