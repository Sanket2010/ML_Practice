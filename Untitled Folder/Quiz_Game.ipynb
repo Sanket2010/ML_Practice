{
 "cells": [
  {
   "cell_type": "code",
   "execution_count": 1,
   "id": "d127c4a4",
   "metadata": {},
   "outputs": [
    {
     "name": "stdout",
     "output_type": "stream",
     "text": [
      "Welcome to my computer Quiz!\n",
      "Do you want to play the game?  no\n",
      "Qkay lets play!!\n"
     ]
    }
   ],
   "source": [
    "print(\"Welcome to my computer Quiz!\")\n",
    "\n",
    "playing = input(\"Do you want to play the game?  \")\n",
    "\n",
    "\n",
    "if playing != \"yes\":\n",
    "    quit()\n",
    "    \n",
    "print(\"Qkay lets play!!\")\n",
    "    "
   ]
  },
  {
   "cell_type": "code",
   "execution_count": null,
   "id": "ebc46b92",
   "metadata": {},
   "outputs": [],
   "source": []
  }
 ],
 "metadata": {
  "kernelspec": {
   "display_name": "Python 3 (ipykernel)",
   "language": "python",
   "name": "python3"
  },
  "language_info": {
   "codemirror_mode": {
    "name": "ipython",
    "version": 3
   },
   "file_extension": ".py",
   "mimetype": "text/x-python",
   "name": "python",
   "nbconvert_exporter": "python",
   "pygments_lexer": "ipython3",
   "version": "3.11.1"
  }
 },
 "nbformat": 4,
 "nbformat_minor": 5
}
